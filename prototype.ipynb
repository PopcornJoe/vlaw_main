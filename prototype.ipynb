{
 "cells": [
  {
   "cell_type": "markdown",
   "metadata": {},
   "source": [
    "# PDF Text Extraction Notebook\n",
    "\n",
    "This notebook demonstrates how to extract text from a PDF file and analyze its content."
   ]
  },
  {
   "cell_type": "code",
   "execution_count": 23,
   "metadata": {},
   "outputs": [],
   "source": [
    "# Import required libraries\n",
    "import PyPDF2\n",
    "import re\n",
    "from pathlib import Path\n",
    "from docx import Document\n",
    "import io"
   ]
  },
  {
   "cell_type": "code",
   "execution_count": 19,
   "metadata": {},
   "outputs": [],
   "source": [
    "def extract_text_from_pdf(pdf_path):\n",
    "    with open(pdf_path, 'rb') as file:\n",
    "        reader = PyPDF2.PdfReader(file)\n",
    "        text = \"\"\n",
    "        for page in reader.pages:\n",
    "            text += page.extract_text()\n",
    "    return text"
   ]
  },
  {
   "cell_type": "code",
   "execution_count": 20,
   "metadata": {},
   "outputs": [],
   "source": [
    "def extract_data_from_text(full_text):\n",
    "    data = {\n",
    "        'matter_name': None,\n",
    "        'account_number': None,\n",
    "        'balance_amount': None,\n",
    "        'instalment_amount': None,\n",
    "        'arrears_amount': None,\n",
    "        'address': None\n",
    "    }\n",
    "\n",
    "    # Patterns for all fields\n",
    "    patterns = {\n",
    "        'matter_name': r'(?:\\*JNT\\s+)?(.*?)\\s+CONT PERSON',\n",
    "        'account_number': r'ACCOUNT #\\s*([\\d-]+)',\n",
    "        'balance_amount': r'CURRENT BALANCE\\.\\.:\\s*([\\d,.]+)',\n",
    "        'instalment_amount': r'PAYMENT AMOUNT\\.\\.\\.:\\s*([\\d,.]+)',\n",
    "        'arrears_amount': r'PAST DUE AMOUNT\\.\\.:\\s*([\\d,.]+)',\n",
    "        'address': r'CONT PERSON\\.:[^\\n]*\\n(.*?)(?=\\s+BRANCH|$)'\n",
    "    }\n",
    "\n",
    "    # Extract all fields\n",
    "    for key, pattern in patterns.items():\n",
    "        if key == 'address':\n",
    "            match = re.search(pattern, full_text, re.IGNORECASE | re.DOTALL)\n",
    "        else:\n",
    "            match = re.search(pattern, full_text, re.IGNORECASE)\n",
    "        \n",
    "        if match:\n",
    "            if key == 'address':\n",
    "                address_text = match.group(1).strip()\n",
    "                # Remove PER PHONE and BUS PHONE parts\n",
    "                address_text = re.sub(r'\\s*PER PHONE.*?(?=\\n|$)', '', address_text, flags=re.IGNORECASE)\n",
    "                address_text = re.sub(r'\\s*BUS PHONE.*?(?=\\n|$)', '', address_text, flags=re.IGNORECASE)\n",
    "                address_text = re.sub(r'\\s*CELL PHONE.*?(?=\\n|$)', '', address_text, flags=re.IGNORECASE)\n",
    "                # Split into lines and remove empty lines\n",
    "                address_lines = [line.strip() for line in address_text.split('\\n') if line.strip()]\n",
    "                # Process address lines to remove STAND NUMBER and anything after\n",
    "                processed_lines = []\n",
    "                for line in address_lines:\n",
    "                    if \"STAND NUMBER\" in line.upper():\n",
    "                        break  # Stop processing when we hit \"STAND NUMBER\"\n",
    "                    processed_lines.append(line)\n",
    "                \n",
    "                data[key] = '\\n'.join(processed_lines)\n",
    "            else:\n",
    "                data[key] = match.group(1).strip()\n",
    "\n",
    "    return data"
   ]
  },
  {
   "cell_type": "code",
   "execution_count": 21,
   "metadata": {},
   "outputs": [
    {
     "name": "stdout",
     "output_type": "stream",
     "text": [
      "GONYANE-M A/XABA-L I\n",
      "3-000-013-304-687\n",
      "991,285.85\n",
      "8,806.06\n",
      "329,386.57\n",
      "2221 BROADACRES DRIVE\n",
      "FOURWAYS EXT 50 + 59\n",
      "<------------------->\n",
      "MR JAMES M THIPE\n",
      "3-000-702-544-455\n",
      "173,243.93\n",
      "2,969.34\n",
      "56,146.13\n",
      "62\n",
      "LONG BEACH STREET\n",
      "EVATON WEST\n",
      "<------------------->\n",
      "NKOSI-P / NKOSI-B\n",
      "3-000-706-982-902\n",
      "385,553.10\n",
      "5,729.11\n",
      "53,897.99\n",
      "44\n",
      "LUNGILE STREET\n",
      "DIEPKLOOF ZONE 5\n",
      "SOWETO\n",
      "<------------------->\n",
      "NGWENYA-E / NTULI-N\n",
      "3-000-703-367-417\n",
      "437,103.34\n",
      "4,900.97\n",
      "42,079.06\n",
      "3801\n",
      "WHITE ONYX CRESCENT\n",
      "DAWN PARK EXT 7\n",
      "<------------------->\n",
      "MR JERRY R NTSHABELE\n",
      "3-000-705-885-172\n",
      "184,478.26\n",
      "2,658.95\n",
      "26,048.45\n",
      "436\n",
      "MAIN STREET\n",
      "ROUXVILLE\n",
      "JOHANNESBURG\n",
      "<------------------->\n"
     ]
    }
   ],
   "source": [
    "MAIN_PATH = Path('/Users/philipseimenis/Documents/work/Van Hulsteyns/populate_word/data/sample_pdfs/')\n",
    "pdf_list = ['3000013304687.pdf', '3000702544455.pdf', '3000706982902.pdf', 'original.pdf', 'testrunforme.pdf']\n",
    "\n",
    "for pdf in pdf_list:\n",
    "    pdf_path = MAIN_PATH / pdf\n",
    "    full_text = extract_text_from_pdf(pdf_path)\n",
    "    matter_name = extract_data_from_text(full_text)['matter_name']\n",
    "    account_number = extract_data_from_text(full_text)['account_number']\n",
    "    balance_amount = extract_data_from_text(full_text)['balance_amount']\n",
    "    instalment_amount = extract_data_from_text(full_text)['instalment_amount']\n",
    "    arrears_amount = extract_data_from_text(full_text)['arrears_amount']\n",
    "    address = extract_data_from_text(full_text)['address']\n",
    "    print(matter_name)\n",
    "    print(account_number)\n",
    "    print(balance_amount)\n",
    "    print(instalment_amount)\n",
    "    print(arrears_amount)\n",
    "    print(address)\n",
    "    print('<------------------->')\n",
    "\n"
   ]
  },
  {
   "cell_type": "code",
   "execution_count": 34,
   "metadata": {},
   "outputs": [
    {
     "name": "stdout",
     "output_type": "stream",
     "text": [
      "125\n"
     ]
    }
   ],
   "source": [
    "doc_path = '/Users/philipseimenis/Documents/work/Van Hulsteyns/populate_word/data/sample_templates/template.docx'\n",
    "\n",
    "# Open the document\n",
    "doc = Document(doc_path)\n",
    "\n",
    "# Get the first paragraph\n",
    "print(len(doc.paragraphs))"
   ]
  },
  {
   "cell_type": "code",
   "execution_count": null,
   "metadata": {},
   "outputs": [],
   "source": []
  }
 ],
 "metadata": {
  "kernelspec": {
   "display_name": ".venv",
   "language": "python",
   "name": "python3"
  },
  "language_info": {
   "codemirror_mode": {
    "name": "ipython",
    "version": 3
   },
   "file_extension": ".py",
   "mimetype": "text/x-python",
   "name": "python",
   "nbconvert_exporter": "python",
   "pygments_lexer": "ipython3",
   "version": "3.12.1"
  }
 },
 "nbformat": 4,
 "nbformat_minor": 2
}
